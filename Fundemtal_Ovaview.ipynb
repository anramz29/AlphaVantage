{
 "cells": [
  {
   "cell_type": "code",
   "execution_count": 264,
   "metadata": {},
   "outputs": [],
   "source": [
    "import requests\n",
    "import pandas as pd\n",
    "import matplotlib.pyplot as plt\n",
    "from sklearn.preprocessing import MinMaxScaler\n",
    "\n",
    "class FundamentalAnalysis:\n",
    "    def __init__(self, Api_Key, Url_Base, Symbol, interval, type):\n",
    "        self.Url_Base = Url_Base\n",
    "        self.Symbol = Symbol\n",
    "        self.Api_Key = Api_Key\n",
    "        self.interval = interval\n",
    "        self.type = type\n",
    "        self.netIncome = self.get_netIncome(Url_Base, Symbol, Api_Key)\n",
    "        self.df_oil = self.get_crude_oil_prices(Url_Base, type, interval, Api_Key)\n",
    "        self.df_Crude_Oil_filtered, self.netIncome_filtered = self.create_datetime(self.netIncome, self.df_oil)\n",
    "        self.Crude_Oil_scaled, self.netIncome_scaled = self.scale_data(self.netIncome_filtered, self.df_Crude_Oil_filtered)\n",
    "        self.plot_multiple_oil_types(self.Crude_Oil_scaled, self.netIncome_scaled)\n",
    "\n",
    "    @staticmethod\n",
    "    def get_netIncome(Url_Base, Symbol, Api_Key):\n",
    "        url = f\"{Url_Base}function=INCOME_STATEMENT&symbol={Symbol}&apikey={Api_Key}\"\n",
    "        response = requests.get(url)\n",
    "        data = response.json()\n",
    "        df = pd.json_normalize(data, 'quarterlyReports')\n",
    "        netIncome = df.set_index('fiscalDateEnding')['netIncome'].astype(float)\n",
    "        return netIncome\n",
    "\n",
    "    @staticmethod\n",
    "    def get_crude_oil_prices(Url_Base, type, interval, Api_Key):\n",
    "        url = f\"{Url_Base}function={type}&interval={interval}&apikey={Api_Key}\"\n",
    "        response = requests.get(url)\n",
    "        data = response.json()\n",
    "        df_Crude_Oil = pd.DataFrame(data['data'], columns=['date', 'value'])\n",
    "        df_Crude_Oil.set_index('date', inplace=True)\n",
    "        df_Crude_Oil['value'] = pd.to_numeric(df_Crude_Oil['value'], errors='coerce')\n",
    "        return df_Crude_Oil\n",
    "\n",
    "    @staticmethod\n",
    "    def create_datetime(netIncome, df_Crude_Oil):\n",
    "        df_Crude_Oil.index = pd.to_datetime(df_Crude_Oil.index)\n",
    "        netIncome.index = pd.to_datetime(netIncome.index)\n",
    "        start_date = max(netIncome.index.min(), df_Crude_Oil.index.min())\n",
    "        end_date = min(netIncome.index.max(), df_Crude_Oil.index.max())\n",
    "        return df_Crude_Oil.loc[start_date:end_date], netIncome.loc[start_date:end_date]\n",
    "\n",
    "    @staticmethod\n",
    "    def scale_data(netIncome_filtered, df_Crude_Oil_filtered):\n",
    "        scaler_oil_filtered = MinMaxScaler()\n",
    "        scaler_net_income = MinMaxScaler()\n",
    "        Crude_Oil_scaled = scaler_oil_filtered.fit_transform(df_Crude_Oil_filtered[['value']])\n",
    "        netIncome_scaled = scaler_net_income.fit_transform(netIncome_filtered.to_frame())\n",
    "        return Crude_Oil_scaled, netIncome_scaled\n",
    "\n",
    "    @staticmethod\n",
    "    def plot_multiple_oil_types(Crude_Oil_scaled, netIncome_scaled):\n",
    "        plt.figure(figsize=(12, 6))\n",
    "        dates = pd.date_range(start='2023-01-01', periods=len(Crude_Oil_scaled), freq='W')  # Example date range\n",
    "        plt.plot(dates, Crude_Oil_scaled, label='WTI Oil Price (Scaled)')\n",
    "        plt.plot(dates, netIncome_scaled, label='Company Net Income (Scaled)', color='orange', linestyle='--')\n",
    "        plt.xlabel\n"
   ]
  },
  {
   "cell_type": "code",
   "execution_count": 263,
   "metadata": {},
   "outputs": [
    {
     "ename": "TypeError",
     "evalue": "Markdown expects text, not {'Information': 'Thank you for using Alpha Vantage! Our standard API rate limit is 25 requests per day. Please subscribe to any of the premium plans at https://www.alphavantage.co/premium/ to instantly remove all daily rate limits.'}",
     "output_type": "error",
     "traceback": [
      "\u001b[0;31m---------------------------------------------------------------------------\u001b[0m",
      "\u001b[0;31mTypeError\u001b[0m                                 Traceback (most recent call last)",
      "\u001b[1;32m/Users/adrian/Desktop/Vantageshit/Fundemtal_Ovaview.ipynb Cell 2\u001b[0m line \u001b[0;36m7\n\u001b[1;32m      <a href='vscode-notebook-cell:/Users/adrian/Desktop/Vantageshit/Fundemtal_Ovaview.ipynb#W4sZmlsZQ%3D%3D?line=3'>4</a>\u001b[0m \u001b[39mtype\u001b[39m \u001b[39m=\u001b[39m \u001b[39m\"\u001b[39m\u001b[39mWTI\u001b[39m\u001b[39m\"\u001b[39m\n\u001b[1;32m      <a href='vscode-notebook-cell:/Users/adrian/Desktop/Vantageshit/Fundemtal_Ovaview.ipynb#W4sZmlsZQ%3D%3D?line=4'>5</a>\u001b[0m Api_Key \u001b[39m=\u001b[39m \u001b[39m'\u001b[39m\u001b[39mOFTFU0NSZ98V2ERT\u001b[39m\u001b[39m'\u001b[39m\n\u001b[0;32m----> <a href='vscode-notebook-cell:/Users/adrian/Desktop/Vantageshit/Fundemtal_Ovaview.ipynb#W4sZmlsZQ%3D%3D?line=6'>7</a>\u001b[0m run_program \u001b[39m=\u001b[39m Fundemental_Analysis(\u001b[39mtype\u001b[39m, Url_Base, Symbol, interval, Api_Key)\n",
      "\u001b[1;32m/Users/adrian/Desktop/Vantageshit/Fundemtal_Ovaview.ipynb Cell 2\u001b[0m line \u001b[0;36m2\n\u001b[1;32m     <a href='vscode-notebook-cell:/Users/adrian/Desktop/Vantageshit/Fundemtal_Ovaview.ipynb#W4sZmlsZQ%3D%3D?line=20'>21</a>\u001b[0m \u001b[39mself\u001b[39m\u001b[39m.\u001b[39minterval \u001b[39m=\u001b[39m interval\n\u001b[1;32m     <a href='vscode-notebook-cell:/Users/adrian/Desktop/Vantageshit/Fundemtal_Ovaview.ipynb#W4sZmlsZQ%3D%3D?line=21'>22</a>\u001b[0m \u001b[39mself\u001b[39m\u001b[39m.\u001b[39mtype \u001b[39m=\u001b[39m \u001b[39mtype\u001b[39m\n\u001b[0;32m---> <a href='vscode-notebook-cell:/Users/adrian/Desktop/Vantageshit/Fundemtal_Ovaview.ipynb#W4sZmlsZQ%3D%3D?line=22'>23</a>\u001b[0m \u001b[39mself\u001b[39m\u001b[39m.\u001b[39mnetIncome \u001b[39m=\u001b[39m \u001b[39mself\u001b[39m\u001b[39m.\u001b[39mget_netIncome(Url_Base, Symbol, Api_Key)\n\u001b[1;32m     <a href='vscode-notebook-cell:/Users/adrian/Desktop/Vantageshit/Fundemtal_Ovaview.ipynb#W4sZmlsZQ%3D%3D?line=23'>24</a>\u001b[0m \u001b[39mself\u001b[39m\u001b[39m.\u001b[39mdf_oil \u001b[39m=\u001b[39m \u001b[39mself\u001b[39m\u001b[39m.\u001b[39mget_crude_oil_prices(\u001b[39mself\u001b[39m, Url_Base, \u001b[39mtype\u001b[39m, interval, Api_Key)\n\u001b[1;32m     <a href='vscode-notebook-cell:/Users/adrian/Desktop/Vantageshit/Fundemtal_Ovaview.ipynb#W4sZmlsZQ%3D%3D?line=24'>25</a>\u001b[0m \u001b[39mself\u001b[39m\u001b[39m.\u001b[39mdf_Crude_Oil_filtered, \u001b[39mself\u001b[39m\u001b[39m.\u001b[39mnetIncome_filtered \u001b[39m=\u001b[39m \u001b[39mself\u001b[39m\u001b[39m.\u001b[39mcreate_datetime(\u001b[39mself\u001b[39m\u001b[39m.\u001b[39mnetIncome, \u001b[39mself\u001b[39m\u001b[39m.\u001b[39mdf_oil)\n",
      "\u001b[1;32m/Users/adrian/Desktop/Vantageshit/Fundemtal_Ovaview.ipynb Cell 2\u001b[0m line \u001b[0;36m3\n\u001b[1;32m     <a href='vscode-notebook-cell:/Users/adrian/Desktop/Vantageshit/Fundemtal_Ovaview.ipynb#W4sZmlsZQ%3D%3D?line=31'>32</a>\u001b[0m data \u001b[39m=\u001b[39m response\u001b[39m.\u001b[39mjson()\n\u001b[1;32m     <a href='vscode-notebook-cell:/Users/adrian/Desktop/Vantageshit/Fundemtal_Ovaview.ipynb#W4sZmlsZQ%3D%3D?line=32'>33</a>\u001b[0m df \u001b[39m=\u001b[39m pd\u001b[39m.\u001b[39mjson_normalize(data)\n\u001b[0;32m---> <a href='vscode-notebook-cell:/Users/adrian/Desktop/Vantageshit/Fundemtal_Ovaview.ipynb#W4sZmlsZQ%3D%3D?line=33'>34</a>\u001b[0m ipd\u001b[39m.\u001b[39mdisplay(ipd\u001b[39m.\u001b[39mMarkdown(data))\n\u001b[1;32m     <a href='vscode-notebook-cell:/Users/adrian/Desktop/Vantageshit/Fundemtal_Ovaview.ipynb#W4sZmlsZQ%3D%3D?line=34'>35</a>\u001b[0m quarterly_reports \u001b[39m=\u001b[39m df[\u001b[39m'\u001b[39m\u001b[39mquarterlyReports\u001b[39m\u001b[39m'\u001b[39m][\u001b[39m0\u001b[39m]\n\u001b[1;32m     <a href='vscode-notebook-cell:/Users/adrian/Desktop/Vantageshit/Fundemtal_Ovaview.ipynb#W4sZmlsZQ%3D%3D?line=35'>36</a>\u001b[0m quarterly_reports \u001b[39m=\u001b[39m pd\u001b[39m.\u001b[39mDataFrame(quarterly_reports)\n",
      "File \u001b[0;32m~/anaconda3/lib/python3.11/site-packages/IPython/core/display.py:328\u001b[0m, in \u001b[0;36mDisplayObject.__init__\u001b[0;34m(self, data, url, filename, metadata)\u001b[0m\n\u001b[1;32m    325\u001b[0m     \u001b[39mself\u001b[39m\u001b[39m.\u001b[39mmetadata \u001b[39m=\u001b[39m {}\n\u001b[1;32m    327\u001b[0m \u001b[39mself\u001b[39m\u001b[39m.\u001b[39mreload()\n\u001b[0;32m--> 328\u001b[0m \u001b[39mself\u001b[39m\u001b[39m.\u001b[39m_check_data()\n",
      "File \u001b[0;32m~/anaconda3/lib/python3.11/site-packages/IPython/core/display.py:407\u001b[0m, in \u001b[0;36mTextDisplayObject._check_data\u001b[0;34m(self)\u001b[0m\n\u001b[1;32m    405\u001b[0m \u001b[39mdef\u001b[39;00m \u001b[39m_check_data\u001b[39m(\u001b[39mself\u001b[39m):\n\u001b[1;32m    406\u001b[0m     \u001b[39mif\u001b[39;00m \u001b[39mself\u001b[39m\u001b[39m.\u001b[39mdata \u001b[39mis\u001b[39;00m \u001b[39mnot\u001b[39;00m \u001b[39mNone\u001b[39;00m \u001b[39mand\u001b[39;00m \u001b[39mnot\u001b[39;00m \u001b[39misinstance\u001b[39m(\u001b[39mself\u001b[39m\u001b[39m.\u001b[39mdata, \u001b[39mstr\u001b[39m):\n\u001b[0;32m--> 407\u001b[0m         \u001b[39mraise\u001b[39;00m \u001b[39mTypeError\u001b[39;00m(\u001b[39m\"\u001b[39m\u001b[39m%s\u001b[39;00m\u001b[39m expects text, not \u001b[39m\u001b[39m%r\u001b[39;00m\u001b[39m\"\u001b[39m \u001b[39m%\u001b[39m (\u001b[39mself\u001b[39m\u001b[39m.\u001b[39m\u001b[39m__class__\u001b[39m\u001b[39m.\u001b[39m\u001b[39m__name__\u001b[39m, \u001b[39mself\u001b[39m\u001b[39m.\u001b[39mdata))\n",
      "\u001b[0;31mTypeError\u001b[0m: Markdown expects text, not {'Information': 'Thank you for using Alpha Vantage! Our standard API rate limit is 25 requests per day. Please subscribe to any of the premium plans at https://www.alphavantage.co/premium/ to instantly remove all daily rate limits.'}"
     ]
    }
   ],
   "source": [
    "\n",
    "\n",
    "Url_Base = \"https://www.alphavantage.co/query?\"\n",
    "Symbol= \"XOM\" #this is the ticker symbol for intel\n",
    "interval = \"weekly\"\n",
    "type = \"WTI\"\n",
    "Api_Key = 'OFTFU0NSZ98V2ERT'\n",
    "\n",
    "run_program = Fundemental_Analysis(type, Url_Base, Symbol, interval, Api_Key)\n"
   ]
  },
  {
   "cell_type": "code",
   "execution_count": null,
   "metadata": {},
   "outputs": [],
   "source": []
  },
  {
   "cell_type": "code",
   "execution_count": null,
   "metadata": {},
   "outputs": [],
   "source": []
  },
  {
   "cell_type": "code",
   "execution_count": null,
   "metadata": {},
   "outputs": [],
   "source": []
  },
  {
   "cell_type": "code",
   "execution_count": null,
   "metadata": {},
   "outputs": [],
   "source": []
  }
 ],
 "metadata": {
  "kernelspec": {
   "display_name": "base",
   "language": "python",
   "name": "python3"
  },
  "language_info": {
   "codemirror_mode": {
    "name": "ipython",
    "version": 3
   },
   "file_extension": ".py",
   "mimetype": "text/x-python",
   "name": "python",
   "nbconvert_exporter": "python",
   "pygments_lexer": "ipython3",
   "version": "3.11.4"
  },
  "orig_nbformat": 4
 },
 "nbformat": 4,
 "nbformat_minor": 2
}
